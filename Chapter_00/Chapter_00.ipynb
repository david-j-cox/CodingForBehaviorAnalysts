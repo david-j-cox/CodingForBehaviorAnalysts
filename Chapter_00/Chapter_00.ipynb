{
  "nbformat": 4,
  "nbformat_minor": 0,
  "metadata": {
    "colab": {
      "name": "Chapter_00.ipynb",
      "provenance": [],
      "collapsed_sections": [],
      "authorship_tag": "ABX9TyPJ0l0XzQPdF2mfoAO+ZkfV",
      "include_colab_link": true
    },
    "kernelspec": {
      "name": "python3",
      "display_name": "Python 3"
    }
  },
  "cells": [
    {
      "cell_type": "markdown",
      "metadata": {
        "id": "view-in-github",
        "colab_type": "text"
      },
      "source": [
        "<a href=\"https://colab.research.google.com/github/davidjcox333/CodingForBehaviorAnalysts/blob/master/Chapter_00.ipynb\" target=\"_parent\"><img src=\"https://colab.research.google.com/assets/colab-badge.svg\" alt=\"Open In Colab\"/></a>"
      ]
    },
    {
      "cell_type": "markdown",
      "metadata": {
        "id": "HZvITCED7Vx_",
        "colab_type": "text"
      },
      "source": [
        "# Introduction to the Course\n",
        "Welcome to the class, Coding for Behavior Analysts! This introductory notebook is meant to make sure you're all set to begin the class. There are two components to this class. \n",
        "\n",
        "1.   You will build either a practice-related computer task or a research-related computer task using PyschoPy, deploy the task, and collect data using your task. \n",
        "2.   You will use Python to analyze and visualize your data. And, you will use Python notebooks (like this one!) to write-up and publish your findings.\n",
        "\n",
        "This introductory module is designed to make sure you're all set with PsychoPy and Python on the computer you'll be using throughout the course. \n",
        "\n",
        "Let's get started!\n",
        "\n"
      ]
    },
    {
      "cell_type": "code",
      "metadata": {
        "id": "_JZPlrx77EeS",
        "colab_type": "code",
        "colab": {}
      },
      "source": [
        ""
      ],
      "execution_count": null,
      "outputs": []
    },
    {
      "cell_type": "code",
      "metadata": {
        "id": "phiIsAO97UJU",
        "colab_type": "code",
        "colab": {}
      },
      "source": [
        ""
      ],
      "execution_count": null,
      "outputs": []
    }
  ]
}